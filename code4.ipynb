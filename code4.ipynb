{
 "cells": [
  {
   "cell_type": "code",
   "execution_count": 1,
   "id": "b9c6411c",
   "metadata": {
    "_execution_state": "idle",
    "_uuid": "051d70d956493feee0c6d64651c6a088724dca2a",
    "execution": {
     "iopub.execute_input": "2023-12-12T21:58:20.668706Z",
     "iopub.status.busy": "2023-12-12T21:58:20.666027Z",
     "iopub.status.idle": "2023-12-12T21:58:22.381926Z",
     "shell.execute_reply": "2023-12-12T21:58:22.380062Z"
    },
    "papermill": {
     "duration": 1.727659,
     "end_time": "2023-12-12T21:58:22.384421",
     "exception": false,
     "start_time": "2023-12-12T21:58:20.656762",
     "status": "completed"
    },
    "tags": []
   },
   "outputs": [
    {
     "name": "stderr",
     "output_type": "stream",
     "text": [
      "── \u001b[1mAttaching core tidyverse packages\u001b[22m ──────────────────────── tidyverse 2.0.0 ──\n",
      "\u001b[32m✔\u001b[39m \u001b[34mdplyr    \u001b[39m 1.1.4     \u001b[32m✔\u001b[39m \u001b[34mreadr    \u001b[39m 2.1.4\n",
      "\u001b[32m✔\u001b[39m \u001b[34mforcats  \u001b[39m 1.0.0     \u001b[32m✔\u001b[39m \u001b[34mstringr  \u001b[39m 1.5.1\n",
      "\u001b[32m✔\u001b[39m \u001b[34mggplot2  \u001b[39m 3.4.4     \u001b[32m✔\u001b[39m \u001b[34mtibble   \u001b[39m 3.2.1\n",
      "\u001b[32m✔\u001b[39m \u001b[34mlubridate\u001b[39m 1.9.3     \u001b[32m✔\u001b[39m \u001b[34mtidyr    \u001b[39m 1.3.0\n",
      "\u001b[32m✔\u001b[39m \u001b[34mpurrr    \u001b[39m 1.0.2     \n",
      "── \u001b[1mConflicts\u001b[22m ────────────────────────────────────────── tidyverse_conflicts() ──\n",
      "\u001b[31m✖\u001b[39m \u001b[34mdplyr\u001b[39m::\u001b[32mfilter()\u001b[39m masks \u001b[34mstats\u001b[39m::filter()\n",
      "\u001b[31m✖\u001b[39m \u001b[34mdplyr\u001b[39m::\u001b[32mlag()\u001b[39m    masks \u001b[34mstats\u001b[39m::lag()\n",
      "\u001b[36mℹ\u001b[39m Use the conflicted package (\u001b[3m\u001b[34m<http://conflicted.r-lib.org/>\u001b[39m\u001b[23m) to force all conflicts to become errors\n"
     ]
    },
    {
     "data": {
      "text/html": [],
      "text/latex": [],
      "text/markdown": [],
      "text/plain": [
       "character(0)"
      ]
     },
     "metadata": {},
     "output_type": "display_data"
    }
   ],
   "source": [
    "# This R environment comes with many helpful analytics packages installed\n",
    "# It is defined by the kaggle/rstats Docker image: https://github.com/kaggle/docker-rstats\n",
    "# For example, here's a helpful package to load\n",
    "\n",
    "library(tidyverse) # metapackage of all tidyverse packages\n",
    "\n",
    "# Input data files are available in the read-only \"../input/\" directory\n",
    "# For example, running this (by clicking run or pressing Shift+Enter) will list all files under the input directory\n",
    "\n",
    "list.files(path = \"../input\")\n",
    "\n",
    "# You can write up to 20GB to the current directory (/kaggle/working/) that gets preserved as output when you create a version using \"Save & Run All\" \n",
    "# You can also write temporary files to /kaggle/temp/, but they won't be saved outside of the current session"
   ]
  },
  {
   "cell_type": "markdown",
   "id": "2ef131f5",
   "metadata": {
    "papermill": {
     "duration": 0.004565,
     "end_time": "2023-12-12T21:58:22.393789",
     "exception": false,
     "start_time": "2023-12-12T21:58:22.389224",
     "status": "completed"
    },
    "tags": []
   },
   "source": [
    "### Irreducible Matrix"
   ]
  },
  {
   "cell_type": "code",
   "execution_count": 2,
   "id": "ccff26c5",
   "metadata": {
    "execution": {
     "iopub.execute_input": "2023-12-12T21:58:22.450757Z",
     "iopub.status.busy": "2023-12-12T21:58:22.410891Z",
     "iopub.status.idle": "2023-12-12T21:58:22.523690Z",
     "shell.execute_reply": "2023-12-12T21:58:22.521467Z"
    },
    "papermill": {
     "duration": 0.127867,
     "end_time": "2023-12-12T21:58:22.528285",
     "exception": false,
     "start_time": "2023-12-12T21:58:22.400418",
     "status": "completed"
    },
    "tags": []
   },
   "outputs": [
    {
     "data": {
      "text/html": [
       "TRUE"
      ],
      "text/latex": [
       "TRUE"
      ],
      "text/markdown": [
       "TRUE"
      ],
      "text/plain": [
       "[1] TRUE"
      ]
     },
     "metadata": {},
     "output_type": "display_data"
    }
   ],
   "source": [
    "is_irreducible_matrix <- function(mat) {\n",
    "  n <- nrow(mat)\n",
    "  \n",
    "  # Check if the matrix is square\n",
    "  if (n != ncol(mat)) {\n",
    "    return(\"ERR_NOTSQUARE\")\n",
    "  }\n",
    "  \n",
    "  # Initialize a vector to store row and column sums\n",
    "  row_sums <- rowSums(mat)\n",
    "  col_sums <- colSums(mat)\n",
    "  \n",
    "  # Check if any row or column sum is zero\n",
    "  if (any(row_sums == 0) || any(col_sums == 0)) {\n",
    "    return(FALSE)\n",
    "  }\n",
    "  \n",
    "  # Check irreducibility\n",
    "  for (i in 1:n) {\n",
    "    for (j in 1:n) {\n",
    "      if (i != j && mat[i, j] == 0) {\n",
    "        if (row_sums[i] == 1 && col_sums[j] == 1) {\n",
    "          return(FALSE)\n",
    "        }\n",
    "      }\n",
    "    }\n",
    "  }\n",
    "  \n",
    "  # If no reducible structure found, the matrix is irreducible\n",
    "  return(TRUE)\n",
    "}\n",
    "\n",
    "# Example usage:\n",
    "\n",
    "your_matrix <- matrix(c(1, 1, 1, 1, 1, 1, 1, 1, 1), nrow = 3, ncol = 3, byrow = TRUE)\n",
    "result <- is_irreducible_matrix(your_matrix)\n",
    "result\n"
   ]
  },
  {
   "cell_type": "markdown",
   "id": "3abf8ba8",
   "metadata": {
    "papermill": {
     "duration": 0.006368,
     "end_time": "2023-12-12T21:58:22.541894",
     "exception": false,
     "start_time": "2023-12-12T21:58:22.535526",
     "status": "completed"
    },
    "tags": []
   },
   "source": [
    "### Reduced Matrix"
   ]
  },
  {
   "cell_type": "code",
   "execution_count": 3,
   "id": "04cb6a8b",
   "metadata": {
    "execution": {
     "iopub.execute_input": "2023-12-12T21:58:22.557473Z",
     "iopub.status.busy": "2023-12-12T21:58:22.555730Z",
     "iopub.status.idle": "2023-12-12T21:58:22.622234Z",
     "shell.execute_reply": "2023-12-12T21:58:22.619526Z"
    },
    "papermill": {
     "duration": 0.077737,
     "end_time": "2023-12-12T21:58:22.625351",
     "exception": false,
     "start_time": "2023-12-12T21:58:22.547614",
     "status": "completed"
    },
    "tags": []
   },
   "outputs": [
    {
     "data": {
      "text/html": [
       "TRUE"
      ],
      "text/latex": [
       "TRUE"
      ],
      "text/markdown": [
       "TRUE"
      ],
      "text/plain": [
       "[1] TRUE"
      ]
     },
     "metadata": {},
     "output_type": "display_data"
    }
   ],
   "source": [
    "reduced_matrix <- function(mat) {\n",
    "  n <- nrow(mat)\n",
    "  \n",
    "  # Check if the matrix is square\n",
    "  if (n != ncol(mat)) {\n",
    "    return(\"ERR_NOTSQUARE\")\n",
    "  }\n",
    "  \n",
    "  # Initialize a vector to store row and column sums\n",
    "  row_sums <- rowSums(mat)\n",
    "  col_sums <- colSums(mat)\n",
    "  \n",
    "  # Check if any row or column sum is zero\n",
    "  if (any(row_sums == 0) || any(col_sums == 0)) {\n",
    "    return(FALSE)\n",
    "  }\n",
    "  \n",
    "  # Check irreducibility\n",
    "  for (i in 1:n) {\n",
    "    for (j in 1:n) {\n",
    "      if (i != j && mat[i, j] == 0) {\n",
    "        if (row_sums[i] == 1 && col_sums[j] == 1) {\n",
    "          return(TRUE)\n",
    "        }\n",
    "      }\n",
    "    }\n",
    "  }\n",
    "  \n",
    "  # If no reducible structure found, the matrix is irreducible\n",
    "  return(FALSE)\n",
    "}\n",
    "\n",
    "# Example usage:\n",
    "\n",
    "your_matrix <- matrix(c(1, 0, 0, 0, 1, 0, 0, 0, 1), nrow = 3, ncol = 3, byrow = TRUE)\n",
    "result <- reduced_matrix(your_matrix)\n",
    "result\n"
   ]
  },
  {
   "cell_type": "markdown",
   "id": "d089c397",
   "metadata": {
    "papermill": {
     "duration": 0.006602,
     "end_time": "2023-12-12T21:58:22.637937",
     "exception": false,
     "start_time": "2023-12-12T21:58:22.631335",
     "status": "completed"
    },
    "tags": []
   },
   "source": [
    "### Shortest Paths"
   ]
  },
  {
   "cell_type": "code",
   "execution_count": 4,
   "id": "86d03d2f",
   "metadata": {
    "execution": {
     "iopub.execute_input": "2023-12-12T21:58:22.655885Z",
     "iopub.status.busy": "2023-12-12T21:58:22.653539Z",
     "iopub.status.idle": "2023-12-12T21:58:22.758718Z",
     "shell.execute_reply": "2023-12-12T21:58:22.756425Z"
    },
    "papermill": {
     "duration": 0.119085,
     "end_time": "2023-12-12T21:58:22.762434",
     "exception": false,
     "start_time": "2023-12-12T21:58:22.643349",
     "status": "completed"
    },
    "tags": []
   },
   "outputs": [
    {
     "name": "stdout",
     "output_type": "stream",
     "text": [
      "[1] \"Adjacency Matrix:\"\n"
     ]
    },
    {
     "data": {
      "text/html": [
       "<table class=\"dataframe\">\n",
       "<caption>A matrix: 3 × 3 of type dbl</caption>\n",
       "<tbody>\n",
       "\t<tr><td>0</td><td>1</td><td>1</td></tr>\n",
       "\t<tr><td>0</td><td>0</td><td>1</td></tr>\n",
       "\t<tr><td>0</td><td>0</td><td>1</td></tr>\n",
       "</tbody>\n",
       "</table>\n"
      ],
      "text/latex": [
       "A matrix: 3 × 3 of type dbl\n",
       "\\begin{tabular}{lll}\n",
       "\t 0 & 1 & 1\\\\\n",
       "\t 0 & 0 & 1\\\\\n",
       "\t 0 & 0 & 1\\\\\n",
       "\\end{tabular}\n"
      ],
      "text/markdown": [
       "\n",
       "A matrix: 3 × 3 of type dbl\n",
       "\n",
       "| 0 | 1 | 1 |\n",
       "| 0 | 0 | 1 |\n",
       "| 0 | 0 | 1 |\n",
       "\n"
      ],
      "text/plain": [
       "     [,1] [,2] [,3]\n",
       "[1,] 0    1    1   \n",
       "[2,] 0    0    1   \n",
       "[3,] 0    0    1   "
      ]
     },
     "metadata": {},
     "output_type": "display_data"
    },
    {
     "name": "stdout",
     "output_type": "stream",
     "text": [
      "[1] \"Number of Shortest Paths Matrix:\"\n"
     ]
    },
    {
     "data": {
      "text/html": [
       "<table class=\"dataframe\">\n",
       "<caption>A matrix: 3 × 3 of type dbl</caption>\n",
       "<tbody>\n",
       "\t<tr><td>0</td><td>1</td><td>1</td></tr>\n",
       "\t<tr><td>0</td><td>0</td><td>1</td></tr>\n",
       "\t<tr><td>0</td><td>0</td><td>0</td></tr>\n",
       "</tbody>\n",
       "</table>\n"
      ],
      "text/latex": [
       "A matrix: 3 × 3 of type dbl\n",
       "\\begin{tabular}{lll}\n",
       "\t 0 & 1 & 1\\\\\n",
       "\t 0 & 0 & 1\\\\\n",
       "\t 0 & 0 & 0\\\\\n",
       "\\end{tabular}\n"
      ],
      "text/markdown": [
       "\n",
       "A matrix: 3 × 3 of type dbl\n",
       "\n",
       "| 0 | 1 | 1 |\n",
       "| 0 | 0 | 1 |\n",
       "| 0 | 0 | 0 |\n",
       "\n"
      ],
      "text/plain": [
       "     [,1] [,2] [,3]\n",
       "[1,] 0    1    1   \n",
       "[2,] 0    0    1   \n",
       "[3,] 0    0    0   "
      ]
     },
     "metadata": {},
     "output_type": "display_data"
    }
   ],
   "source": [
    "# Function calculates the number of shortest paths in a digraph\n",
    "calculate_shortest_paths <- function(adjacency_matrix) {\n",
    "  # Get the number of vertices in the graph\n",
    "  n <- nrow(adjacency_matrix)\n",
    "\n",
    "  # Initialize matrix to store the number of shortest paths\n",
    "  num_shortest_paths_matrix <- matrix(0, ncol = n, nrow = n)\n",
    "\n",
    "  # Iterate over all pairs of vertices\n",
    "  for (i in 1:n) {\n",
    "    for (j in 1:n) {\n",
    "      if (i != j && adjacency_matrix[i, j] == 1) {\n",
    "        # If there is a direct edge, there is one shortest path\n",
    "        num_shortest_paths_matrix[i, j] <- 1\n",
    "      } else if (i != j) {\n",
    "        # Use dynamic programming to calculate the number of shortest paths\n",
    "        num_shortest_paths_matrix[i, j] <- sum(sapply(1:n, function(k) {\n",
    "          if (k != i && k != j && adjacency_matrix[i, k] == 1 && adjacency_matrix[k, j] == 1) {\n",
    "            num_shortest_paths_matrix[i, k] * num_shortest_paths_matrix[k, j]\n",
    "          } else {\n",
    "            0\n",
    "          }\n",
    "        }))\n",
    "      }\n",
    "    }\n",
    "  }\n",
    "\n",
    "  return(num_shortest_paths_matrix)\n",
    "}\n",
    "\n",
    "# Example usage\n",
    "adjacency_matrix <- matrix(c(0, 1, 1, 0, 0, 1, 0, 0, 1), nrow = 3, byrow = TRUE)\n",
    "result_matrix <- calculate_shortest_paths(adjacency_matrix)\n",
    "\n",
    "print(\"Adjacency Matrix:\")\n",
    "adjacency_matrix\n",
    "\n",
    "print(\"Number of Shortest Paths Matrix:\")\n",
    "result_matrix\n"
   ]
  },
  {
   "cell_type": "markdown",
   "id": "5706184a",
   "metadata": {
    "papermill": {
     "duration": 0.008333,
     "end_time": "2023-12-12T21:58:22.779448",
     "exception": false,
     "start_time": "2023-12-12T21:58:22.771115",
     "status": "completed"
    },
    "tags": []
   },
   "source": [
    "### Primitive Matrix"
   ]
  },
  {
   "cell_type": "code",
   "execution_count": 5,
   "id": "0e7df81a",
   "metadata": {
    "execution": {
     "iopub.execute_input": "2023-12-12T21:58:22.801878Z",
     "iopub.status.busy": "2023-12-12T21:58:22.800073Z",
     "iopub.status.idle": "2023-12-12T21:58:22.886366Z",
     "shell.execute_reply": "2023-12-12T21:58:22.884153Z"
    },
    "papermill": {
     "duration": 0.148444,
     "end_time": "2023-12-12T21:58:22.938423",
     "exception": false,
     "start_time": "2023-12-12T21:58:22.789979",
     "status": "completed"
    },
    "tags": []
   },
   "outputs": [
    {
     "data": {
      "text/html": [
       "TRUE"
      ],
      "text/latex": [
       "TRUE"
      ],
      "text/markdown": [
       "TRUE"
      ],
      "text/plain": [
       "[1] TRUE"
      ]
     },
     "metadata": {},
     "output_type": "display_data"
    },
    {
     "data": {
      "text/html": [
       "FALSE"
      ],
      "text/latex": [
       "FALSE"
      ],
      "text/markdown": [
       "FALSE"
      ],
      "text/plain": [
       "[1] FALSE"
      ]
     },
     "metadata": {},
     "output_type": "display_data"
    }
   ],
   "source": [
    "# Function to calculate matrix exponentiation (non-negative integer power)\n",
    "matrix_power <- function(matrix, power) {\n",
    "  if (power == 0) {\n",
    "    return(diag(nrow(matrix)))\n",
    "  } else if (power > 0) {\n",
    "    result <- matrix\n",
    "    for (i in 2:power) {\n",
    "      result <- result %*% matrix\n",
    "    }\n",
    "    return(result)\n",
    "  } else {\n",
    "    return(\"Power must be a non-negative integer.\")\n",
    "  }\n",
    "}\n",
    "\n",
    "# Function to check if a matrix is primitive\n",
    "is_primitive_matrix <- function(matrix) {\n",
    "  n <- nrow(matrix)\n",
    "\n",
    "  # Check if the matrix is square\n",
    "  if (n != ncol(matrix)) {\n",
    "    stop(\"ERR_NOTSQUARE\")\n",
    "  }\n",
    "\n",
    "  # Check if the matrix is non-negative\n",
    "  if (any(matrix < 0)) {\n",
    "    return(\"ERR_NOTNONNEG\")\n",
    "  }\n",
    "\n",
    "  # Check if there exists a positive integer k such that all entries of A^k are positive\n",
    "  for (k in 1:(n^2 - 1)) {\n",
    "    if (all((matrix_power(matrix, k)) > 0)) {\n",
    "      return(TRUE)\n",
    "    }\n",
    "  }\n",
    "\n",
    "  return(FALSE)\n",
    "}\n",
    "\n",
    "# Example usage\n",
    "m1 <- matrix(c(1, 0, 1, 1, 1, 1, 1, 1, 1), nrow = 3, byrow = TRUE)\n",
    "m2 <- matrix(c(1, 0, 0, 1), nrow = 2, byrow = TRUE)\n",
    "is_primitive_matrix(m1)\n",
    "is_primitive_matrix(m2)"
   ]
  },
  {
   "cell_type": "markdown",
   "id": "3818884a",
   "metadata": {
    "papermill": {
     "duration": 0.007337,
     "end_time": "2023-12-12T21:58:22.953268",
     "exception": false,
     "start_time": "2023-12-12T21:58:22.945931",
     "status": "completed"
    },
    "tags": []
   },
   "source": [
    "### Primitivity Index"
   ]
  },
  {
   "cell_type": "code",
   "execution_count": 6,
   "id": "9db423be",
   "metadata": {
    "execution": {
     "iopub.execute_input": "2023-12-12T21:58:22.979505Z",
     "iopub.status.busy": "2023-12-12T21:58:22.977281Z",
     "iopub.status.idle": "2023-12-12T21:58:23.052997Z",
     "shell.execute_reply": "2023-12-12T21:58:23.048845Z"
    },
    "papermill": {
     "duration": 0.096503,
     "end_time": "2023-12-12T21:58:23.057744",
     "exception": false,
     "start_time": "2023-12-12T21:58:22.961241",
     "status": "completed"
    },
    "tags": []
   },
   "outputs": [
    {
     "data": {
      "text/html": [
       "4"
      ],
      "text/latex": [
       "4"
      ],
      "text/markdown": [
       "4"
      ],
      "text/plain": [
       "[1] 4"
      ]
     },
     "metadata": {},
     "output_type": "display_data"
    }
   ],
   "source": [
    "# Function to calculate matrix exponentiation (non-negative integer power)\n",
    "matrix_power <- function(matrix, power) {\n",
    "  if (power == 0) {\n",
    "    return(diag(nrow(matrix)))\n",
    "  } else if (power > 0) {\n",
    "    result <- matrix\n",
    "    for (i in 2:power) {\n",
    "      result <- result %*% matrix\n",
    "    }\n",
    "    return(result)\n",
    "  } else {\n",
    "    return(\"Power must be a non-negative integer.\")\n",
    "  }\n",
    "}\n",
    "\n",
    "# Function to find the primitivity index of a matrix\n",
    "primitivity_index <- function(matrix) {\n",
    "  n <- nrow(matrix)\n",
    "\n",
    "  # Check if the matrix is square\n",
    "  if (n != ncol(matrix)) {\n",
    "    return(\"Input matrix is not square.\")\n",
    "  }\n",
    "\n",
    "  # Check if the matrix is non-negative\n",
    "  if (any(matrix < 0)) {\n",
    "    return(\"Input matrix must have non-negative entries.\")\n",
    "  }\n",
    "\n",
    "  # Find the primitivity index\n",
    "  for (k in 1:(n^2 - 1)) {\n",
    "    if (all((matrix_power(matrix, k)) > 0)) {\n",
    "      return(k)\n",
    "    }\n",
    "  }\n",
    "\n",
    "  return(\"Matrix is not primitive.\")\n",
    "}\n",
    "\n",
    "# Example usage\n",
    "#matrix1 <- matrix(c(1, 2, 3, 4), nrow = 2, byrow = TRUE)\n",
    "#matrix2 <- matrix(c(0, 1, 0, 0), nrow = 2, byrow = TRUE)\n",
    "#matrix3 <- matrix(c(1, 0, 1, 1, 1, 1, 1, 1, 1), nrow = 3, byrow = TRUE)\n",
    "matrix4 <- matrix(c(0, 1, 0, 1, 0, 1, 1, 1, 0), nrow = 3, byrow = TRUE)\n",
    "\n",
    "primitivity_index(matrix4)\n"
   ]
  },
  {
   "cell_type": "markdown",
   "id": "7689453b",
   "metadata": {
    "papermill": {
     "duration": 0.008134,
     "end_time": "2023-12-12T21:58:23.072185",
     "exception": false,
     "start_time": "2023-12-12T21:58:23.064051",
     "status": "completed"
    },
    "tags": []
   },
   "source": [
    "### Perron-Frobenius"
   ]
  },
  {
   "cell_type": "code",
   "execution_count": 7,
   "id": "994e9621",
   "metadata": {
    "execution": {
     "iopub.execute_input": "2023-12-12T21:58:23.090328Z",
     "iopub.status.busy": "2023-12-12T21:58:23.088253Z",
     "iopub.status.idle": "2023-12-12T21:58:23.777929Z",
     "shell.execute_reply": "2023-12-12T21:58:23.767134Z"
    },
    "papermill": {
     "duration": 0.704153,
     "end_time": "2023-12-12T21:58:23.783305",
     "exception": false,
     "start_time": "2023-12-12T21:58:23.079152",
     "status": "completed"
    },
    "tags": []
   },
   "outputs": [
    {
     "data": {
      "text/html": [
       "<dl>\n",
       "\t<dt>$type</dt>\n",
       "\t\t<dd>'Primitive'</dd>\n",
       "\t<dt>$spectral_radius</dt>\n",
       "\t\t<dd>5.37228132326901</dd>\n",
       "\t<dt>$perron_root</dt>\n",
       "\t\t<dd>5.37228132326901</dd>\n",
       "\t<dt>$eigenvalues</dt>\n",
       "\t\t<dd><style>\n",
       ".list-inline {list-style: none; margin:0; padding: 0}\n",
       ".list-inline>li {display: inline-block}\n",
       ".list-inline>li:not(:last-child)::after {content: \"\\00b7\"; padding: 0 .5ex}\n",
       "</style>\n",
       "<ol class=list-inline><li>5.37228132326901</li><li>-0.372281323269014</li></ol>\n",
       "</dd>\n",
       "</dl>\n"
      ],
      "text/latex": [
       "\\begin{description}\n",
       "\\item[\\$type] 'Primitive'\n",
       "\\item[\\$spectral\\_radius] 5.37228132326901\n",
       "\\item[\\$perron\\_root] 5.37228132326901\n",
       "\\item[\\$eigenvalues] \\begin{enumerate*}\n",
       "\\item 5.37228132326901\n",
       "\\item -0.372281323269014\n",
       "\\end{enumerate*}\n",
       "\n",
       "\\end{description}\n"
      ],
      "text/markdown": [
       "$type\n",
       ":   'Primitive'\n",
       "$spectral_radius\n",
       ":   5.37228132326901\n",
       "$perron_root\n",
       ":   5.37228132326901\n",
       "$eigenvalues\n",
       ":   1. 5.37228132326901\n",
       "2. -0.372281323269014\n",
       "\n",
       "\n",
       "\n",
       "\n",
       "\n"
      ],
      "text/plain": [
       "$type\n",
       "[1] \"Primitive\"\n",
       "\n",
       "$spectral_radius\n",
       "[1] 5.372281\n",
       "\n",
       "$perron_root\n",
       "[1] 5.372281\n",
       "\n",
       "$eigenvalues\n",
       "[1]  5.3722813 -0.3722813\n"
      ]
     },
     "metadata": {},
     "output_type": "display_data"
    },
    {
     "data": {
      "image/png": "[encoded data removed]"
     },
     "metadata": {
      "image/png": {
       "height": 420,
       "width": 420
      }
     },
     "output_type": "display_data"
    }
   ],
   "source": [
    "# Function to calculate matrix power iteratively\n",
    "matrix_power <- function(matrix, exponent) {\n",
    "  result <- matrix\n",
    "  for (i in 2:exponent) {\n",
    "    result <- result %*% matrix\n",
    "  }\n",
    "  return(result)\n",
    "}\n",
    "\n",
    "# Function to check if a matrix is primitive\n",
    "is_primitive_matrix <- function(matrix) {\n",
    "  n <- nrow(matrix)\n",
    "\n",
    "  # Check if the matrix is square\n",
    "  if (n != ncol(matrix)) {\n",
    "    stop(\"Input matrix is not square.\")\n",
    "  }\n",
    "\n",
    "  # Check if the matrix is nonnegative\n",
    "  if (any(matrix < 0)) {\n",
    "    stop(\"Input matrix must have non-negative entries.\")\n",
    "  }\n",
    "\n",
    "  # Check irreducibility by examining matrix powers\n",
    "  for (k in 1:(n^2 - 1)) {\n",
    "    if (all((matrix_power(matrix, k)) > 0)) {\n",
    "      return(TRUE)\n",
    "    }\n",
    "  }\n",
    "\n",
    "  return(FALSE)\n",
    "}\n",
    "\n",
    "# Function to test Perron-Frobenius theorem on matrix M\n",
    "Perron_Frobenius <- function(matrix) {\n",
    "  n <- nrow(matrix)\n",
    "\n",
    "  # Check if the matrix is square\n",
    "  if (n != ncol(matrix)) {\n",
    "    stop(\"Input matrix is not square.\")\n",
    "  }\n",
    "\n",
    "  # Check if the matrix is nonnegative\n",
    "  if (any(matrix < 0)) {\n",
    "    return(\"The matrix is not nonnegative.\")\n",
    "  }\n",
    "\n",
    "  # Check irreducibility by examining matrix powers\n",
    "  irreducible <- all(sapply(2:(n - 1), function(k) any((matrix_power(matrix, k)) > 0)))\n",
    "\n",
    "  if (irreducible) {\n",
    "    # Check if the matrix is primitive\n",
    "    primitive <- is_primitive_matrix(matrix)\n",
    "\n",
    "    if (primitive) {\n",
    "      perron_info <- list(\n",
    "        type = \"Primitive\",\n",
    "        spectral_radius = max(Mod(eigen(matrix)$values)),\n",
    "        perron_root = max(Mod(eigen(matrix)$values)),\n",
    "        eigenvalues = eigen(matrix)$values\n",
    "      )\n",
    "    } else {\n",
    "      # Imprimitive case: distinguish \"regular\" eigenvalues from Perron root\n",
    "      regular_eigenvalues <- eigen(matrix)$values[Mod(eigen(matrix)$values) != max(Mod(eigen(matrix)$values))]\n",
    "      perron_root <- max(Mod(eigen(matrix)$values))\n",
    "      perron_info <- list(\n",
    "        type = \"Imprimitive\",\n",
    "        spectral_radius = max(Mod(eigen(matrix)$values)),\n",
    "        perron_root = perron_root,\n",
    "        regular_eigenvalues = regular_eigenvalues,\n",
    "        eigenvalues = eigen(matrix)$values\n",
    "      )\n",
    "    }\n",
    "\n",
    "    # Plot spectral radius and eigenvalues\n",
    "    plot(Mod(perron_info$eigenvalues), col = ifelse(Mod(perron_info$eigenvalues) == perron_info$perron_root, \"red\", \"black\"), pch = 19,\n",
    "         xlab = \"Real Part\", ylab = \"Imaginary Part\", main = \"Eigenvalues of Matrix M\")\n",
    "    abline(h = perron_info$spectral_radius, col = \"blue\", lty = 2, lwd = 2)\n",
    "    text(Re(perron_info$spectral_radius) + 0.1, Im(perron_info$spectral_radius), labels = \"Spectral Radius\", pos = 2, col = \"blue\", cex = 0.7)\n",
    "\n",
    "    if (perron_info$type == \"Primitive\") {\n",
    "      text(Re(perron_info$perron_root), Im(perron_info$perron_root), labels = \"Perron Root\", pos = 3, col = \"red\", cex = 0.7)\n",
    "    } else {\n",
    "      text(Re(perron_info$perron_root), Im(perron_info$perron_root), labels = \"Perron Root (Imprimitive)\", pos = 3, col = \"red\", cex = 0.7)\n",
    "    }\n",
    "\n",
    "    legend(\"topleft\", legend = c(\"Regular Eigenvalues\", \"Perron Root\", \"Spectral Radius\"), col = c(\"black\", \"red\", \"blue\"), pch = c(19, 19, NA), cex = 0.8)\n",
    "\n",
    "    return(perron_info)\n",
    "  } else {\n",
    "    return(\"The matrix is not irreducible.\")\n",
    "  }\n",
    "}\n",
    "\n",
    "# Example \n",
    "\n",
    "matrix3 <- matrix(c(1, 2, 3, 4), nrow = 2, byrow = TRUE)\n",
    "\n",
    "Perron_Frobenius(matrix3)\n"
   ]
  },
  {
   "cell_type": "markdown",
   "id": "c8e04707",
   "metadata": {
    "papermill": {
     "duration": 0.009706,
     "end_time": "2023-12-12T21:58:23.801250",
     "exception": false,
     "start_time": "2023-12-12T21:58:23.791544",
     "status": "completed"
    },
    "tags": []
   },
   "source": [
    "### Vector Norm"
   ]
  },
  {
   "cell_type": "code",
   "execution_count": 8,
   "id": "6c678794",
   "metadata": {
    "execution": {
     "iopub.execute_input": "2023-12-12T21:58:23.832016Z",
     "iopub.status.busy": "2023-12-12T21:58:23.826683Z",
     "iopub.status.idle": "2023-12-12T21:58:23.901882Z",
     "shell.execute_reply": "2023-12-12T21:58:23.898873Z"
    },
    "papermill": {
     "duration": 0.088856,
     "end_time": "2023-12-12T21:58:23.905590",
     "exception": false,
     "start_time": "2023-12-12T21:58:23.816734",
     "status": "completed"
    },
    "tags": []
   },
   "outputs": [
    {
     "data": {
      "text/html": [
       "11"
      ],
      "text/latex": [
       "11"
      ],
      "text/markdown": [
       "11"
      ],
      "text/plain": [
       "[1] 11"
      ]
     },
     "metadata": {},
     "output_type": "display_data"
    },
    {
     "data": {
      "text/html": [
       "5.56776436283002"
      ],
      "text/latex": [
       "5.56776436283002"
      ],
      "text/markdown": [
       "5.56776436283002"
      ],
      "text/plain": [
       "[1] 5.567764"
      ]
     },
     "metadata": {},
     "output_type": "display_data"
    },
    {
     "data": {
      "text/html": [
       "4"
      ],
      "text/latex": [
       "4"
      ],
      "text/markdown": [
       "4"
      ],
      "text/plain": [
       "[1] 4"
      ]
     },
     "metadata": {},
     "output_type": "display_data"
    }
   ],
   "source": [
    "# Function to compute vector norms of a matrix considered as a vector in C^n^2\n",
    "vector_norm <- function(matrix, norm) {\n",
    "  n <- nrow(matrix)\n",
    "  m <- ncol(matrix)\n",
    "\n",
    "  # Flatten the matrix to a vector\n",
    "  vector_M <- as.vector(matrix)\n",
    "\n",
    "  # Compute the requested vector norm\n",
    "  if (norm == 1) {\n",
    "    return(sum(abs(vector_M)))\n",
    "  } else if (norm == 2) {\n",
    "    return(sqrt(sum(abs(vector_M)^2)))\n",
    "  } else if (norm == Inf) {\n",
    "    return(max(abs(vector_M)))\n",
    "  } else {\n",
    "    stop(\"Invalid norm. Use norm = 1, 2, or Inf.\")\n",
    "  }\n",
    "}\n",
    "\n",
    "# Example \n",
    "matrix1 <- matrix(c(1, -2, 3, 4, 0, -1), nrow = 2, ncol = 3, byrow = TRUE)\n",
    "\n",
    "# Compute vector norms with norm type as an argument\n",
    "\n",
    "vector_norm(matrix1, 1)\n",
    "vector_norm(matrix1, 2)\n",
    "vector_norm(matrix1, Inf)"
   ]
  },
  {
   "cell_type": "markdown",
   "id": "ac616e57",
   "metadata": {
    "papermill": {
     "duration": 0.012199,
     "end_time": "2023-12-12T21:58:23.927478",
     "exception": false,
     "start_time": "2023-12-12T21:58:23.915279",
     "status": "completed"
    },
    "tags": []
   },
   "source": [
    "### Matrix Norm"
   ]
  },
  {
   "cell_type": "code",
   "execution_count": 9,
   "id": "05fa2912",
   "metadata": {
    "execution": {
     "iopub.execute_input": "2023-12-12T21:58:23.962386Z",
     "iopub.status.busy": "2023-12-12T21:58:23.959962Z",
     "iopub.status.idle": "2023-12-12T21:58:24.068018Z",
     "shell.execute_reply": "2023-12-12T21:58:24.064978Z"
    },
    "papermill": {
     "duration": 0.128649,
     "end_time": "2023-12-12T21:58:24.074541",
     "exception": false,
     "start_time": "2023-12-12T21:58:23.945892",
     "status": "completed"
    },
    "tags": []
   },
   "outputs": [
    {
     "data": {
      "text/html": [
       "10"
      ],
      "text/latex": [
       "10"
      ],
      "text/markdown": [
       "10"
      ],
      "text/plain": [
       "[1] 10"
      ]
     },
     "metadata": {},
     "output_type": "display_data"
    },
    {
     "data": {
      "text/html": [
       "7.93725393319377"
      ],
      "text/latex": [
       "7.93725393319377"
      ],
      "text/markdown": [
       "7.93725393319377"
      ],
      "text/plain": [
       "[1] 7.937254"
      ]
     },
     "metadata": {},
     "output_type": "display_data"
    },
    {
     "data": {
      "text/html": [
       "8"
      ],
      "text/latex": [
       "8"
      ],
      "text/markdown": [
       "8"
      ],
      "text/plain": [
       "[1] 8"
      ]
     },
     "metadata": {},
     "output_type": "display_data"
    }
   ],
   "source": [
    "# Function to compute Matrix norms \n",
    "matrix_norm <- function(matrix, norm) {\n",
    "  n <- nrow(matrix)\n",
    "  m <- ncol(matrix)\n",
    "\n",
    "  # Flatten the matrix to a vector\n",
    "  vector_M <- as.vector(matrix)\n",
    "\n",
    "  # Compute the requested vector norm\n",
    "  if (norm == 1) {\n",
    "    return(max(colSums(abs(matrix))))\n",
    "  } else if (norm == 2) {\n",
    "    return(sqrt(sum(abs(vector_M)^2)))\n",
    "  } else if (norm == Inf) {\n",
    "    return(max(rowSums(abs(matrix))))\n",
    "  } else {\n",
    "    stop(\"Invalid norm. Use norm = 1, 2, or Inf.\")\n",
    "  }\n",
    "}\n",
    "\n",
    "# Example \n",
    "matrix1 <- matrix(c(1, -7, -2, -3), nrow = 2, byrow = TRUE)\n",
    "\n",
    "\n",
    "matrix_norm(matrix1, 1)\n",
    "matrix_norm(matrix1, 2)\n",
    "matrix_norm(matrix1, Inf)\n",
    "\n"
   ]
  },
  {
   "cell_type": "markdown",
   "id": "45be8f1e",
   "metadata": {
    "papermill": {
     "duration": 0.012039,
     "end_time": "2023-12-12T21:58:24.098175",
     "exception": false,
     "start_time": "2023-12-12T21:58:24.086136",
     "status": "completed"
    },
    "tags": []
   },
   "source": [
    "### Matrix Properties\n",
    "\n",
    "#### Square, real, complex, nonnegativity, \n",
    "#### positivity, invertibility, reducibility, \n",
    "#### irreducibility, primitivity, eigenvalues, eigenvectors, \n",
    "#### Hermitian, diagonal, lower (and upper) triangular, symmetric, \n",
    "#### skew Hermitian, normal, unitary, orthogonal, permutation, reversal, \n",
    "#### circulant, Toeplitz, Hankel, (upper and lower) Heissenberg, tridiagonal,\n",
    "#### Jacobi and Persymmetric. "
   ]
  },
  {
   "cell_type": "code",
   "execution_count": null,
   "id": "024790a6",
   "metadata": {
    "papermill": {
     "duration": 0.013431,
     "end_time": "2023-12-12T21:58:24.120060",
     "exception": false,
     "start_time": "2023-12-12T21:58:24.106629",
     "status": "completed"
    },
    "tags": []
   },
   "outputs": [],
   "source": []
  },
  {
   "cell_type": "code",
   "execution_count": null,
   "id": "5987b7ee",
   "metadata": {
    "papermill": {
     "duration": 0.01172,
     "end_time": "2023-12-12T21:58:24.141842",
     "exception": false,
     "start_time": "2023-12-12T21:58:24.130122",
     "status": "completed"
    },
    "tags": []
   },
   "outputs": [],
   "source": []
  },
  {
   "cell_type": "code",
   "execution_count": null,
   "id": "5bdd0677",
   "metadata": {
    "papermill": {
     "duration": 0.009519,
     "end_time": "2023-12-12T21:58:24.162232",
     "exception": false,
     "start_time": "2023-12-12T21:58:24.152713",
     "status": "completed"
    },
    "tags": []
   },
   "outputs": [],
   "source": []
  }
 ],
 "metadata": {
  "kaggle": {
   "accelerator": "none",
   "dataSources": [],
   "dockerImageVersionId": 30618,
   "isGpuEnabled": false,
   "isInternetEnabled": true,
   "language": "r",
   "sourceType": "notebook"
  },
  "kernelspec": {
   "display_name": "R",
   "language": "R",
   "name": "ir"
  },
  "language_info": {
   "codemirror_mode": "r",
   "file_extension": ".r",
   "mimetype": "text/x-r-source",
   "name": "R",
   "pygments_lexer": "r",
   "version": "4.0.5"
  },
  "papermill": {
   "default_parameters": {},
   "duration": 8.109575,
   "end_time": "2023-12-12T21:58:24.302329",
   "environment_variables": {},
   "exception": null,
   "input_path": "__notebook__.ipynb",
   "output_path": "__notebook__.ipynb",
   "parameters": {},
   "start_time": "2023-12-12T21:58:16.192754",
   "version": "2.5.0"
  }
 },
 "nbformat": 4,
 "nbformat_minor": 5
}
